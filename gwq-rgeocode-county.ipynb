{
 "cells": [
  {
   "cell_type": "code",
   "execution_count": 1,
   "metadata": {},
   "outputs": [],
   "source": [
    "%load_ext autotime\n",
    "import pandas as pd\n",
    "import geopandas as gpd\n",
    "import geopy\n",
    "from geopy.geocoders import Nominatim\n",
    "from geopy.extra.rate_limiter import RateLimiter"
   ]
  },
  {
   "cell_type": "code",
   "execution_count": 2,
   "metadata": {
    "scrolled": true
   },
   "outputs": [
    {
     "data": {
      "text/html": [
       "<div>\n",
       "<style scoped>\n",
       "    .dataframe tbody tr th:only-of-type {\n",
       "        vertical-align: middle;\n",
       "    }\n",
       "\n",
       "    .dataframe tbody tr th {\n",
       "        vertical-align: top;\n",
       "    }\n",
       "\n",
       "    .dataframe thead th {\n",
       "        text-align: right;\n",
       "    }\n",
       "</style>\n",
       "<table border=\"1\" class=\"dataframe\">\n",
       "  <thead>\n",
       "    <tr style=\"text-align: right;\">\n",
       "      <th></th>\n",
       "      <th>well_id</th>\n",
       "      <th>results</th>\n",
       "      <th>chemical</th>\n",
       "      <th>date</th>\n",
       "      <th>units</th>\n",
       "      <th>qualifer</th>\n",
       "      <th>rl</th>\n",
       "      <th>latitude</th>\n",
       "      <th>longitude</th>\n",
       "      <th>well_type</th>\n",
       "      <th>source</th>\n",
       "    </tr>\n",
       "  </thead>\n",
       "  <tbody>\n",
       "    <tr>\n",
       "      <th>0</th>\n",
       "      <td>TULE-01</td>\n",
       "      <td>1.000</td>\n",
       "      <td>1,1,1-Trichloroethane</td>\n",
       "      <td>11/29/2005</td>\n",
       "      <td>UG/L</td>\n",
       "      <td>=</td>\n",
       "      <td>0.002</td>\n",
       "      <td>35.883148</td>\n",
       "      <td>-119.269694</td>\n",
       "      <td>MUNICIPAL</td>\n",
       "      <td>USGS</td>\n",
       "    </tr>\n",
       "    <tr>\n",
       "      <th>1</th>\n",
       "      <td>TULE-02</td>\n",
       "      <td>0.003</td>\n",
       "      <td>1,1,1-Trichloroethane</td>\n",
       "      <td>11/30/2005</td>\n",
       "      <td>UG/L</td>\n",
       "      <td>&lt;</td>\n",
       "      <td>0.003</td>\n",
       "      <td>36.095139</td>\n",
       "      <td>-119.198500</td>\n",
       "      <td>MUNICIPAL</td>\n",
       "      <td>USGS</td>\n",
       "    </tr>\n",
       "    <tr>\n",
       "      <th>2</th>\n",
       "      <td>TULE-03</td>\n",
       "      <td>5.000</td>\n",
       "      <td>1,1,1-Trichloroethane</td>\n",
       "      <td>11/30/2005</td>\n",
       "      <td>UG/L</td>\n",
       "      <td>NaN</td>\n",
       "      <td>0.002</td>\n",
       "      <td>36.108833</td>\n",
       "      <td>-119.322000</td>\n",
       "      <td>MUNICIPAL</td>\n",
       "      <td>USGS</td>\n",
       "    </tr>\n",
       "    <tr>\n",
       "      <th>3</th>\n",
       "      <td>TULE-04</td>\n",
       "      <td>0.003</td>\n",
       "      <td>1,1,1-Trichloroethane</td>\n",
       "      <td>12/5/2005</td>\n",
       "      <td>UG/L</td>\n",
       "      <td>&lt;</td>\n",
       "      <td>0.003</td>\n",
       "      <td>35.794139</td>\n",
       "      <td>-119.111389</td>\n",
       "      <td>MUNICIPAL</td>\n",
       "      <td>USGS</td>\n",
       "    </tr>\n",
       "    <tr>\n",
       "      <th>4</th>\n",
       "      <td>TULE-05</td>\n",
       "      <td>0.003</td>\n",
       "      <td>1,1,1-Trichloroethane</td>\n",
       "      <td>12/5/2005</td>\n",
       "      <td>UG/L</td>\n",
       "      <td>&lt;</td>\n",
       "      <td>0.003</td>\n",
       "      <td>35.889944</td>\n",
       "      <td>-119.046056</td>\n",
       "      <td>MUNICIPAL</td>\n",
       "      <td>USGS</td>\n",
       "    </tr>\n",
       "  </tbody>\n",
       "</table>\n",
       "</div>"
      ],
      "text/plain": [
       "   well_id  results               chemical        date units qualifer     rl  \\\n",
       "0  TULE-01    1.000  1,1,1-Trichloroethane  11/29/2005  UG/L        =  0.002   \n",
       "1  TULE-02    0.003  1,1,1-Trichloroethane  11/30/2005  UG/L        <  0.003   \n",
       "2  TULE-03    5.000  1,1,1-Trichloroethane  11/30/2005  UG/L      NaN  0.002   \n",
       "3  TULE-04    0.003  1,1,1-Trichloroethane   12/5/2005  UG/L        <  0.003   \n",
       "4  TULE-05    0.003  1,1,1-Trichloroethane   12/5/2005  UG/L        <  0.003   \n",
       "\n",
       "    latitude   longitude  well_type source  \n",
       "0  35.883148 -119.269694  MUNICIPAL   USGS  \n",
       "1  36.095139 -119.198500  MUNICIPAL   USGS  \n",
       "2  36.108833 -119.322000  MUNICIPAL   USGS  \n",
       "3  35.794139 -119.111389  MUNICIPAL   USGS  \n",
       "4  35.889944 -119.046056  MUNICIPAL   USGS  "
      ]
     },
     "execution_count": 2,
     "metadata": {},
     "output_type": "execute_result"
    },
    {
     "name": "stdout",
     "output_type": "stream",
     "text": [
      "time: 38.9 ms\n"
     ]
    }
   ],
   "source": [
    "# Import csv file to pandas dataframe and preview\n",
    "df = pd.read_csv(\"gwq10.csv\")\n",
    "df.head()"
   ]
  },
  {
   "cell_type": "code",
   "execution_count": 3,
   "metadata": {},
   "outputs": [
    {
     "data": {
      "text/plain": [
       "373"
      ]
     },
     "execution_count": 3,
     "metadata": {},
     "output_type": "execute_result"
    },
    {
     "name": "stdout",
     "output_type": "stream",
     "text": [
      "time: 1.99 ms\n"
     ]
    }
   ],
   "source": [
    "# Check number of rows in dataframe\n",
    "len(df)"
   ]
  },
  {
   "cell_type": "code",
   "execution_count": 4,
   "metadata": {},
   "outputs": [
    {
     "name": "stdout",
     "output_type": "stream",
     "text": [
      "time: 2.99 ms\n"
     ]
    }
   ],
   "source": [
    "# Convert well_id data type to string\n",
    "df['well_id'] = df['well_id'].astype(str)\n",
    "# Convert latitude and longitude data type to float\n",
    "df['latitude'] = df['latitude'].astype(float)\n",
    "df['longitude'] = df['longitude'].astype(float)"
   ]
  },
  {
   "cell_type": "code",
   "execution_count": 5,
   "metadata": {},
   "outputs": [
    {
     "name": "stdout",
     "output_type": "stream",
     "text": [
      "time: 3min 36s\n"
     ]
    }
   ],
   "source": [
    "# Reverse geocode one record of lat/lon data to test code and determine county data\n",
    "geolocator = Nominatim(user_agent=\"gwq10.py\", timeout=3) # 3 second delay to timeout\n",
    "\n",
    "# Create county column\n",
    "county_column = []\n",
    "# Loop through dataframe \n",
    "for i in range(len(df)):\n",
    "    # obtain lat and lon for each row in data frame\n",
    "    lat = df.latitude.iloc[i]\n",
    "    lon = df.longitude.iloc[i]\n",
    "    # use rate limiter to avoid timeout error\n",
    "    reverse = RateLimiter(geolocator.reverse, min_delay_seconds=1) # nominatum usage policy requires at least 1 second\n",
    "    \n",
    "    # get the address data for dataframe using lat/lon\n",
    "    location = geolocator.reverse(f\"{lat}, {lon}\")\n",
    "    # split address data into string\n",
    "    geo_string = location.address.split(\",\")\n",
    "    # extract county data from address data\n",
    "    for i in geo_string:\n",
    "        if 'County' in i:\n",
    "            county_column.append(i)"
   ]
  },
  {
   "cell_type": "code",
   "execution_count": 6,
   "metadata": {},
   "outputs": [
    {
     "data": {
      "text/plain": [
       "[' Tulare County',\n",
       " ' Tulare County',\n",
       " ' Tulare County',\n",
       " ' Tulare County',\n",
       " ' Tulare County',\n",
       " 'Tulare County',\n",
       " ' Tulare County',\n",
       " ' Tulare County',\n",
       " ' Tulare County',\n",
       " ' Tulare County']"
      ]
     },
     "execution_count": 6,
     "metadata": {},
     "output_type": "execute_result"
    },
    {
     "name": "stdout",
     "output_type": "stream",
     "text": [
      "time: 2.99 ms\n"
     ]
    }
   ],
   "source": [
    "county_column[:10]"
   ]
  },
  {
   "cell_type": "code",
   "execution_count": 7,
   "metadata": {},
   "outputs": [
    {
     "name": "stdout",
     "output_type": "stream",
     "text": [
      "time: 2.99 ms\n"
     ]
    }
   ],
   "source": [
    "# add \"county_column\" data to dataframe and name \"county\"\n",
    "df[\"county\"] = pd.Series(county_column)"
   ]
  },
  {
   "cell_type": "code",
   "execution_count": 8,
   "metadata": {},
   "outputs": [
    {
     "data": {
      "text/html": [
       "<div>\n",
       "<style scoped>\n",
       "    .dataframe tbody tr th:only-of-type {\n",
       "        vertical-align: middle;\n",
       "    }\n",
       "\n",
       "    .dataframe tbody tr th {\n",
       "        vertical-align: top;\n",
       "    }\n",
       "\n",
       "    .dataframe thead th {\n",
       "        text-align: right;\n",
       "    }\n",
       "</style>\n",
       "<table border=\"1\" class=\"dataframe\">\n",
       "  <thead>\n",
       "    <tr style=\"text-align: right;\">\n",
       "      <th></th>\n",
       "      <th>well_id</th>\n",
       "      <th>results</th>\n",
       "      <th>chemical</th>\n",
       "      <th>date</th>\n",
       "      <th>units</th>\n",
       "      <th>qualifer</th>\n",
       "      <th>rl</th>\n",
       "      <th>latitude</th>\n",
       "      <th>longitude</th>\n",
       "      <th>well_type</th>\n",
       "      <th>source</th>\n",
       "      <th>county</th>\n",
       "    </tr>\n",
       "  </thead>\n",
       "  <tbody>\n",
       "    <tr>\n",
       "      <th>0</th>\n",
       "      <td>TULE-01</td>\n",
       "      <td>1.000</td>\n",
       "      <td>1,1,1-Trichloroethane</td>\n",
       "      <td>11/29/2005</td>\n",
       "      <td>UG/L</td>\n",
       "      <td>=</td>\n",
       "      <td>0.002</td>\n",
       "      <td>35.883148</td>\n",
       "      <td>-119.269694</td>\n",
       "      <td>MUNICIPAL</td>\n",
       "      <td>USGS</td>\n",
       "      <td>Tulare County</td>\n",
       "    </tr>\n",
       "    <tr>\n",
       "      <th>1</th>\n",
       "      <td>TULE-02</td>\n",
       "      <td>0.003</td>\n",
       "      <td>1,1,1-Trichloroethane</td>\n",
       "      <td>11/30/2005</td>\n",
       "      <td>UG/L</td>\n",
       "      <td>&lt;</td>\n",
       "      <td>0.003</td>\n",
       "      <td>36.095139</td>\n",
       "      <td>-119.198500</td>\n",
       "      <td>MUNICIPAL</td>\n",
       "      <td>USGS</td>\n",
       "      <td>Tulare County</td>\n",
       "    </tr>\n",
       "    <tr>\n",
       "      <th>2</th>\n",
       "      <td>TULE-03</td>\n",
       "      <td>5.000</td>\n",
       "      <td>1,1,1-Trichloroethane</td>\n",
       "      <td>11/30/2005</td>\n",
       "      <td>UG/L</td>\n",
       "      <td>NaN</td>\n",
       "      <td>0.002</td>\n",
       "      <td>36.108833</td>\n",
       "      <td>-119.322000</td>\n",
       "      <td>MUNICIPAL</td>\n",
       "      <td>USGS</td>\n",
       "      <td>Tulare County</td>\n",
       "    </tr>\n",
       "    <tr>\n",
       "      <th>3</th>\n",
       "      <td>TULE-04</td>\n",
       "      <td>0.003</td>\n",
       "      <td>1,1,1-Trichloroethane</td>\n",
       "      <td>12/5/2005</td>\n",
       "      <td>UG/L</td>\n",
       "      <td>&lt;</td>\n",
       "      <td>0.003</td>\n",
       "      <td>35.794139</td>\n",
       "      <td>-119.111389</td>\n",
       "      <td>MUNICIPAL</td>\n",
       "      <td>USGS</td>\n",
       "      <td>Tulare County</td>\n",
       "    </tr>\n",
       "    <tr>\n",
       "      <th>4</th>\n",
       "      <td>TULE-05</td>\n",
       "      <td>0.003</td>\n",
       "      <td>1,1,1-Trichloroethane</td>\n",
       "      <td>12/5/2005</td>\n",
       "      <td>UG/L</td>\n",
       "      <td>&lt;</td>\n",
       "      <td>0.003</td>\n",
       "      <td>35.889944</td>\n",
       "      <td>-119.046056</td>\n",
       "      <td>MUNICIPAL</td>\n",
       "      <td>USGS</td>\n",
       "      <td>Tulare County</td>\n",
       "    </tr>\n",
       "    <tr>\n",
       "      <th>5</th>\n",
       "      <td>TULE-06</td>\n",
       "      <td>0.003</td>\n",
       "      <td>1,1,1-Trichloroethane</td>\n",
       "      <td>12/5/2005</td>\n",
       "      <td>UG/L</td>\n",
       "      <td>&lt;</td>\n",
       "      <td>0.003</td>\n",
       "      <td>35.913611</td>\n",
       "      <td>-119.078611</td>\n",
       "      <td>MUNICIPAL</td>\n",
       "      <td>USGS</td>\n",
       "      <td>Tulare County</td>\n",
       "    </tr>\n",
       "    <tr>\n",
       "      <th>6</th>\n",
       "      <td>TULE-07</td>\n",
       "      <td>6.000</td>\n",
       "      <td>1,1,1-Trichloroethane</td>\n",
       "      <td>12/6/2005</td>\n",
       "      <td>UG/L</td>\n",
       "      <td>NaN</td>\n",
       "      <td>0.002</td>\n",
       "      <td>36.058917</td>\n",
       "      <td>-119.307639</td>\n",
       "      <td>MUNICIPAL</td>\n",
       "      <td>USGS</td>\n",
       "      <td>Tulare County</td>\n",
       "    </tr>\n",
       "    <tr>\n",
       "      <th>7</th>\n",
       "      <td>TULE-08</td>\n",
       "      <td>7.000</td>\n",
       "      <td>1,1,1-Trichloroethane</td>\n",
       "      <td>12/7/2005</td>\n",
       "      <td>UG/L</td>\n",
       "      <td>NaN</td>\n",
       "      <td>0.002</td>\n",
       "      <td>35.969556</td>\n",
       "      <td>-119.283778</td>\n",
       "      <td>MUNICIPAL</td>\n",
       "      <td>USGS</td>\n",
       "      <td>Tulare County</td>\n",
       "    </tr>\n",
       "    <tr>\n",
       "      <th>8</th>\n",
       "      <td>TULE-09</td>\n",
       "      <td>0.003</td>\n",
       "      <td>1,1,1-Trichloroethane</td>\n",
       "      <td>12/7/2005</td>\n",
       "      <td>UG/L</td>\n",
       "      <td>&lt;</td>\n",
       "      <td>0.003</td>\n",
       "      <td>36.061556</td>\n",
       "      <td>-119.028222</td>\n",
       "      <td>MUNICIPAL</td>\n",
       "      <td>USGS</td>\n",
       "      <td>Tulare County</td>\n",
       "    </tr>\n",
       "    <tr>\n",
       "      <th>9</th>\n",
       "      <td>TULE-10</td>\n",
       "      <td>0.003</td>\n",
       "      <td>1,1,1-Trichloroethane</td>\n",
       "      <td>12/7/2005</td>\n",
       "      <td>UG/L</td>\n",
       "      <td>&lt;</td>\n",
       "      <td>0.003</td>\n",
       "      <td>36.022500</td>\n",
       "      <td>-119.097167</td>\n",
       "      <td>MUNICIPAL</td>\n",
       "      <td>USGS</td>\n",
       "      <td>Tulare County</td>\n",
       "    </tr>\n",
       "  </tbody>\n",
       "</table>\n",
       "</div>"
      ],
      "text/plain": [
       "   well_id  results               chemical        date units qualifer     rl  \\\n",
       "0  TULE-01    1.000  1,1,1-Trichloroethane  11/29/2005  UG/L        =  0.002   \n",
       "1  TULE-02    0.003  1,1,1-Trichloroethane  11/30/2005  UG/L        <  0.003   \n",
       "2  TULE-03    5.000  1,1,1-Trichloroethane  11/30/2005  UG/L      NaN  0.002   \n",
       "3  TULE-04    0.003  1,1,1-Trichloroethane   12/5/2005  UG/L        <  0.003   \n",
       "4  TULE-05    0.003  1,1,1-Trichloroethane   12/5/2005  UG/L        <  0.003   \n",
       "5  TULE-06    0.003  1,1,1-Trichloroethane   12/5/2005  UG/L        <  0.003   \n",
       "6  TULE-07    6.000  1,1,1-Trichloroethane   12/6/2005  UG/L      NaN  0.002   \n",
       "7  TULE-08    7.000  1,1,1-Trichloroethane   12/7/2005  UG/L      NaN  0.002   \n",
       "8  TULE-09    0.003  1,1,1-Trichloroethane   12/7/2005  UG/L        <  0.003   \n",
       "9  TULE-10    0.003  1,1,1-Trichloroethane   12/7/2005  UG/L        <  0.003   \n",
       "\n",
       "    latitude   longitude  well_type source          county  \n",
       "0  35.883148 -119.269694  MUNICIPAL   USGS   Tulare County  \n",
       "1  36.095139 -119.198500  MUNICIPAL   USGS   Tulare County  \n",
       "2  36.108833 -119.322000  MUNICIPAL   USGS   Tulare County  \n",
       "3  35.794139 -119.111389  MUNICIPAL   USGS   Tulare County  \n",
       "4  35.889944 -119.046056  MUNICIPAL   USGS   Tulare County  \n",
       "5  35.913611 -119.078611  MUNICIPAL   USGS   Tulare County  \n",
       "6  36.058917 -119.307639  MUNICIPAL   USGS   Tulare County  \n",
       "7  35.969556 -119.283778  MUNICIPAL   USGS   Tulare County  \n",
       "8  36.061556 -119.028222  MUNICIPAL   USGS   Tulare County  \n",
       "9  36.022500 -119.097167  MUNICIPAL   USGS   Tulare County  "
      ]
     },
     "execution_count": 8,
     "metadata": {},
     "output_type": "execute_result"
    },
    {
     "name": "stdout",
     "output_type": "stream",
     "text": [
      "time: 53.9 ms\n"
     ]
    }
   ],
   "source": [
    "df.head(10)"
   ]
  },
  {
   "cell_type": "code",
   "execution_count": 9,
   "metadata": {},
   "outputs": [
    {
     "name": "stdout",
     "output_type": "stream",
     "text": [
      "time: 17 ms\n"
     ]
    }
   ],
   "source": [
    "# make csv from df_dup dataframe\n",
    "df.to_csv(\"gwq10-rgeocode.csv\", index=None, header=True)"
   ]
  }
 ],
 "metadata": {
  "kernelspec": {
   "display_name": "Python 3",
   "language": "python",
   "name": "python3"
  },
  "language_info": {
   "codemirror_mode": {
    "name": "ipython",
    "version": 3
   },
   "file_extension": ".py",
   "mimetype": "text/x-python",
   "name": "python",
   "nbconvert_exporter": "python",
   "pygments_lexer": "ipython3",
   "version": "3.7.3"
  }
 },
 "nbformat": 4,
 "nbformat_minor": 4
}
