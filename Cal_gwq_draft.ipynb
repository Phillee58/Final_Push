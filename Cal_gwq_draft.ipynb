{
 "cells": [
  {
   "cell_type": "code",
   "execution_count": 1,
   "metadata": {},
   "outputs": [],
   "source": [
    "%load_ext autotime\n",
    "import pandas as pd\n",
    "import geopandas as gpd\n",
    "import geopy\n",
    "from geopy.geocoders import Nominatim\n",
    "from geopy.extra.rate_limiter import RateLimiter\n",
    "import matplotlib.pyplot as plt\n",
    "import plotly_express as px\n",
    "from tqdm import tqdm\n",
    "#from tqdm.tqdm_notebook import tqdm_notebook"
   ]
  },
  {
   "cell_type": "code",
   "execution_count": 2,
   "metadata": {
    "scrolled": true
   },
   "outputs": [
    {
     "data": {
      "text/html": [
       "<div>\n",
       "<style scoped>\n",
       "    .dataframe tbody tr th:only-of-type {\n",
       "        vertical-align: middle;\n",
       "    }\n",
       "\n",
       "    .dataframe tbody tr th {\n",
       "        vertical-align: top;\n",
       "    }\n",
       "\n",
       "    .dataframe thead th {\n",
       "        text-align: right;\n",
       "    }\n",
       "</style>\n",
       "<table border=\"1\" class=\"dataframe\">\n",
       "  <thead>\n",
       "    <tr style=\"text-align: right;\">\n",
       "      <th></th>\n",
       "      <th>well_id</th>\n",
       "      <th>results</th>\n",
       "      <th>chemical</th>\n",
       "      <th>date</th>\n",
       "      <th>units</th>\n",
       "      <th>qualifer</th>\n",
       "      <th>rl</th>\n",
       "      <th>latitude</th>\n",
       "      <th>longitude</th>\n",
       "      <th>well_type</th>\n",
       "      <th>source</th>\n",
       "    </tr>\n",
       "  </thead>\n",
       "  <tbody>\n",
       "    <tr>\n",
       "      <th>0</th>\n",
       "      <td>ANT-01</td>\n",
       "      <td>0.003</td>\n",
       "      <td>1,1,1-Trichloroethane</td>\n",
       "      <td>1/28/2008</td>\n",
       "      <td>UG/L</td>\n",
       "      <td>&lt;</td>\n",
       "      <td>0.0030</td>\n",
       "      <td>34.624472</td>\n",
       "      <td>-118.185056</td>\n",
       "      <td>MUNICIPAL</td>\n",
       "      <td>USGS</td>\n",
       "    </tr>\n",
       "    <tr>\n",
       "      <th>1</th>\n",
       "      <td>ANT-01</td>\n",
       "      <td>0.005</td>\n",
       "      <td>1,1,2,2-Tetrachloroethane</td>\n",
       "      <td>1/28/2008</td>\n",
       "      <td>UG/L</td>\n",
       "      <td>&lt;</td>\n",
       "      <td>0.0050</td>\n",
       "      <td>34.624472</td>\n",
       "      <td>-118.185056</td>\n",
       "      <td>MUNICIPAL</td>\n",
       "      <td>USGS</td>\n",
       "    </tr>\n",
       "    <tr>\n",
       "      <th>2</th>\n",
       "      <td>ANT-01</td>\n",
       "      <td>0.006</td>\n",
       "      <td>1,2-Dibromo-3-chloropropane</td>\n",
       "      <td>1/28/2008</td>\n",
       "      <td>UG/L</td>\n",
       "      <td>&lt;</td>\n",
       "      <td>0.0059</td>\n",
       "      <td>34.624472</td>\n",
       "      <td>-118.185056</td>\n",
       "      <td>MUNICIPAL</td>\n",
       "      <td>USGS</td>\n",
       "    </tr>\n",
       "    <tr>\n",
       "      <th>3</th>\n",
       "      <td>ANT-01</td>\n",
       "      <td>0.006</td>\n",
       "      <td>1,2-Dichlorobenzene</td>\n",
       "      <td>1/28/2008</td>\n",
       "      <td>UG/L</td>\n",
       "      <td>&lt;</td>\n",
       "      <td>0.0060</td>\n",
       "      <td>34.624472</td>\n",
       "      <td>-118.185056</td>\n",
       "      <td>MUNICIPAL</td>\n",
       "      <td>USGS</td>\n",
       "    </tr>\n",
       "    <tr>\n",
       "      <th>4</th>\n",
       "      <td>ANT-01</td>\n",
       "      <td>0.006</td>\n",
       "      <td>Alachlor</td>\n",
       "      <td>1/28/2008</td>\n",
       "      <td>UG/L</td>\n",
       "      <td>&lt;</td>\n",
       "      <td>0.0060</td>\n",
       "      <td>34.624472</td>\n",
       "      <td>-118.185056</td>\n",
       "      <td>MUNICIPAL</td>\n",
       "      <td>USGS</td>\n",
       "    </tr>\n",
       "  </tbody>\n",
       "</table>\n",
       "</div>"
      ],
      "text/plain": [
       "  well_id  results                     chemical       date units qualifer  \\\n",
       "0  ANT-01    0.003        1,1,1-Trichloroethane  1/28/2008  UG/L        <   \n",
       "1  ANT-01    0.005    1,1,2,2-Tetrachloroethane  1/28/2008  UG/L        <   \n",
       "2  ANT-01    0.006  1,2-Dibromo-3-chloropropane  1/28/2008  UG/L        <   \n",
       "3  ANT-01    0.006          1,2-Dichlorobenzene  1/28/2008  UG/L        <   \n",
       "4  ANT-01    0.006                     Alachlor  1/28/2008  UG/L        <   \n",
       "\n",
       "       rl   latitude   longitude  well_type source  \n",
       "0  0.0030  34.624472 -118.185056  MUNICIPAL   USGS  \n",
       "1  0.0050  34.624472 -118.185056  MUNICIPAL   USGS  \n",
       "2  0.0059  34.624472 -118.185056  MUNICIPAL   USGS  \n",
       "3  0.0060  34.624472 -118.185056  MUNICIPAL   USGS  \n",
       "4  0.0060  34.624472 -118.185056  MUNICIPAL   USGS  "
      ]
     },
     "execution_count": 2,
     "metadata": {},
     "output_type": "execute_result"
    },
    {
     "name": "stdout",
     "output_type": "stream",
     "text": [
      "time: 67.8 ms\n"
     ]
    }
   ],
   "source": [
    "df = pd.read_csv(\"clean_chemical_master_gwq_data_sample.csv\")\n",
    "df.head()"
   ]
  },
  {
   "cell_type": "code",
   "execution_count": 3,
   "metadata": {},
   "outputs": [
    {
     "name": "stdout",
     "output_type": "stream",
     "text": [
      "time: 997 µs\n"
     ]
    }
   ],
   "source": [
    "df['latitude'] = df['latitude'].astype(float)"
   ]
  },
  {
   "cell_type": "code",
   "execution_count": 4,
   "metadata": {},
   "outputs": [
    {
     "name": "stdout",
     "output_type": "stream",
     "text": [
      "time: 997 µs\n"
     ]
    }
   ],
   "source": [
    "df['longitude'] = df['longitude'].astype(float)"
   ]
  },
  {
   "cell_type": "code",
   "execution_count": 7,
   "metadata": {},
   "outputs": [
    {
     "data": {
      "text/plain": [
       "' Los Angeles County'"
      ]
     },
     "execution_count": 7,
     "metadata": {},
     "output_type": "execute_result"
    },
    {
     "name": "stdout",
     "output_type": "stream",
     "text": [
      "time: 655 ms\n"
     ]
    }
   ],
   "source": [
    "geolocator = Nominatim(user_agent=\"untitled.py\")\n",
    "location = geolocator.reverse(\"34.624472, -118.185056\")\n",
    "geo_string = location.address.split(\",\")\n",
    "geo_string[4]"
   ]
  },
  {
   "cell_type": "code",
   "execution_count": 9,
   "metadata": {},
   "outputs": [
    {
     "data": {
      "text/plain": [
       "[' Los Angeles County',\n",
       " ' Los Angeles County',\n",
       " ' Los Angeles County',\n",
       " ' Los Angeles County',\n",
       " ' Los Angeles County',\n",
       " ' Los Angeles County',\n",
       " ' Los Angeles County',\n",
       " ' Los Angeles County',\n",
       " ' Los Angeles County',\n",
       " ' Los Angeles County']"
      ]
     },
     "execution_count": 9,
     "metadata": {},
     "output_type": "execute_result"
    },
    {
     "name": "stdout",
     "output_type": "stream",
     "text": [
      "time: 1.99 ms\n"
     ]
    }
   ],
   "source": [
    "county_column[:10]"
   ]
  },
  {
   "cell_type": "code",
   "execution_count": 11,
   "metadata": {},
   "outputs": [
    {
     "data": {
      "text/html": [
       "<div>\n",
       "<style scoped>\n",
       "    .dataframe tbody tr th:only-of-type {\n",
       "        vertical-align: middle;\n",
       "    }\n",
       "\n",
       "    .dataframe tbody tr th {\n",
       "        vertical-align: top;\n",
       "    }\n",
       "\n",
       "    .dataframe thead th {\n",
       "        text-align: right;\n",
       "    }\n",
       "</style>\n",
       "<table border=\"1\" class=\"dataframe\">\n",
       "  <thead>\n",
       "    <tr style=\"text-align: right;\">\n",
       "      <th></th>\n",
       "      <th>well_id</th>\n",
       "      <th>results</th>\n",
       "      <th>chemical</th>\n",
       "      <th>date</th>\n",
       "      <th>units</th>\n",
       "      <th>qualifer</th>\n",
       "      <th>rl</th>\n",
       "      <th>latitude</th>\n",
       "      <th>longitude</th>\n",
       "      <th>well_type</th>\n",
       "      <th>source</th>\n",
       "      <th>County</th>\n",
       "    </tr>\n",
       "  </thead>\n",
       "  <tbody>\n",
       "    <tr>\n",
       "      <th>0</th>\n",
       "      <td>ANT-01</td>\n",
       "      <td>0.003</td>\n",
       "      <td>1,1,1-Trichloroethane</td>\n",
       "      <td>1/28/2008</td>\n",
       "      <td>UG/L</td>\n",
       "      <td>&lt;</td>\n",
       "      <td>0.0030</td>\n",
       "      <td>34.624472</td>\n",
       "      <td>-118.185056</td>\n",
       "      <td>MUNICIPAL</td>\n",
       "      <td>USGS</td>\n",
       "      <td>Los Angeles County</td>\n",
       "    </tr>\n",
       "    <tr>\n",
       "      <th>1</th>\n",
       "      <td>ANT-01</td>\n",
       "      <td>0.005</td>\n",
       "      <td>1,1,2,2-Tetrachloroethane</td>\n",
       "      <td>1/28/2008</td>\n",
       "      <td>UG/L</td>\n",
       "      <td>&lt;</td>\n",
       "      <td>0.0050</td>\n",
       "      <td>34.624472</td>\n",
       "      <td>-118.185056</td>\n",
       "      <td>MUNICIPAL</td>\n",
       "      <td>USGS</td>\n",
       "      <td>Los Angeles County</td>\n",
       "    </tr>\n",
       "    <tr>\n",
       "      <th>2</th>\n",
       "      <td>ANT-01</td>\n",
       "      <td>0.006</td>\n",
       "      <td>1,2-Dibromo-3-chloropropane</td>\n",
       "      <td>1/28/2008</td>\n",
       "      <td>UG/L</td>\n",
       "      <td>&lt;</td>\n",
       "      <td>0.0059</td>\n",
       "      <td>34.624472</td>\n",
       "      <td>-118.185056</td>\n",
       "      <td>MUNICIPAL</td>\n",
       "      <td>USGS</td>\n",
       "      <td>Los Angeles County</td>\n",
       "    </tr>\n",
       "    <tr>\n",
       "      <th>3</th>\n",
       "      <td>ANT-01</td>\n",
       "      <td>0.006</td>\n",
       "      <td>1,2-Dichlorobenzene</td>\n",
       "      <td>1/28/2008</td>\n",
       "      <td>UG/L</td>\n",
       "      <td>&lt;</td>\n",
       "      <td>0.0060</td>\n",
       "      <td>34.624472</td>\n",
       "      <td>-118.185056</td>\n",
       "      <td>MUNICIPAL</td>\n",
       "      <td>USGS</td>\n",
       "      <td>Los Angeles County</td>\n",
       "    </tr>\n",
       "    <tr>\n",
       "      <th>4</th>\n",
       "      <td>ANT-01</td>\n",
       "      <td>0.006</td>\n",
       "      <td>Alachlor</td>\n",
       "      <td>1/28/2008</td>\n",
       "      <td>UG/L</td>\n",
       "      <td>&lt;</td>\n",
       "      <td>0.0060</td>\n",
       "      <td>34.624472</td>\n",
       "      <td>-118.185056</td>\n",
       "      <td>MUNICIPAL</td>\n",
       "      <td>USGS</td>\n",
       "      <td>Los Angeles County</td>\n",
       "    </tr>\n",
       "    <tr>\n",
       "      <th>...</th>\n",
       "      <td>...</td>\n",
       "      <td>...</td>\n",
       "      <td>...</td>\n",
       "      <td>...</td>\n",
       "      <td>...</td>\n",
       "      <td>...</td>\n",
       "      <td>...</td>\n",
       "      <td>...</td>\n",
       "      <td>...</td>\n",
       "      <td>...</td>\n",
       "      <td>...</td>\n",
       "      <td>...</td>\n",
       "    </tr>\n",
       "    <tr>\n",
       "      <th>75</th>\n",
       "      <td>ANT-01</td>\n",
       "      <td>7.500</td>\n",
       "      <td>Tetrachloroethene</td>\n",
       "      <td>1/28/2008</td>\n",
       "      <td>PH UNITS</td>\n",
       "      <td>NaN</td>\n",
       "      <td>NaN</td>\n",
       "      <td>34.624472</td>\n",
       "      <td>-118.185056</td>\n",
       "      <td>MUNICIPAL</td>\n",
       "      <td>USGS</td>\n",
       "      <td>Los Angeles County</td>\n",
       "    </tr>\n",
       "    <tr>\n",
       "      <th>76</th>\n",
       "      <td>ANT-01</td>\n",
       "      <td>7.300</td>\n",
       "      <td>Trichloroethene</td>\n",
       "      <td>1/28/2008</td>\n",
       "      <td>MG/L</td>\n",
       "      <td>NaN</td>\n",
       "      <td>NaN</td>\n",
       "      <td>34.624472</td>\n",
       "      <td>-118.185056</td>\n",
       "      <td>MUNICIPAL</td>\n",
       "      <td>USGS</td>\n",
       "      <td>Los Angeles County</td>\n",
       "    </tr>\n",
       "    <tr>\n",
       "      <th>77</th>\n",
       "      <td>ANT-01</td>\n",
       "      <td>-9.600</td>\n",
       "      <td>Trifluralin</td>\n",
       "      <td>1/28/2008</td>\n",
       "      <td>per mil</td>\n",
       "      <td>NaN</td>\n",
       "      <td>NaN</td>\n",
       "      <td>34.624472</td>\n",
       "      <td>-118.185056</td>\n",
       "      <td>MUNICIPAL</td>\n",
       "      <td>USGS</td>\n",
       "      <td>Los Angeles County</td>\n",
       "    </tr>\n",
       "    <tr>\n",
       "      <th>78</th>\n",
       "      <td>ANT-01</td>\n",
       "      <td>1120.000</td>\n",
       "      <td>Vinyl chloride</td>\n",
       "      <td>1/28/2008</td>\n",
       "      <td>UMHOS/CM</td>\n",
       "      <td>NaN</td>\n",
       "      <td>NaN</td>\n",
       "      <td>34.624472</td>\n",
       "      <td>-118.185056</td>\n",
       "      <td>MUNICIPAL</td>\n",
       "      <td>USGS</td>\n",
       "      <td>Los Angeles County</td>\n",
       "    </tr>\n",
       "    <tr>\n",
       "      <th>79</th>\n",
       "      <td>ANT-01</td>\n",
       "      <td>24.500</td>\n",
       "      <td>Xylenes</td>\n",
       "      <td>1/28/2008</td>\n",
       "      <td>CELSIUS</td>\n",
       "      <td>NaN</td>\n",
       "      <td>NaN</td>\n",
       "      <td>34.624472</td>\n",
       "      <td>-118.185056</td>\n",
       "      <td>MUNICIPAL</td>\n",
       "      <td>USGS</td>\n",
       "      <td>Los Angeles County</td>\n",
       "    </tr>\n",
       "  </tbody>\n",
       "</table>\n",
       "<p>80 rows × 12 columns</p>\n",
       "</div>"
      ],
      "text/plain": [
       "   well_id   results                     chemical       date     units  \\\n",
       "0   ANT-01     0.003        1,1,1-Trichloroethane  1/28/2008      UG/L   \n",
       "1   ANT-01     0.005    1,1,2,2-Tetrachloroethane  1/28/2008      UG/L   \n",
       "2   ANT-01     0.006  1,2-Dibromo-3-chloropropane  1/28/2008      UG/L   \n",
       "3   ANT-01     0.006          1,2-Dichlorobenzene  1/28/2008      UG/L   \n",
       "4   ANT-01     0.006                     Alachlor  1/28/2008      UG/L   \n",
       "..     ...       ...                          ...        ...       ...   \n",
       "75  ANT-01     7.500            Tetrachloroethene  1/28/2008  PH UNITS   \n",
       "76  ANT-01     7.300              Trichloroethene  1/28/2008      MG/L   \n",
       "77  ANT-01    -9.600                  Trifluralin  1/28/2008   per mil   \n",
       "78  ANT-01  1120.000               Vinyl chloride  1/28/2008  UMHOS/CM   \n",
       "79  ANT-01    24.500                      Xylenes  1/28/2008   CELSIUS   \n",
       "\n",
       "   qualifer      rl   latitude   longitude  well_type source  \\\n",
       "0         <  0.0030  34.624472 -118.185056  MUNICIPAL   USGS   \n",
       "1         <  0.0050  34.624472 -118.185056  MUNICIPAL   USGS   \n",
       "2         <  0.0059  34.624472 -118.185056  MUNICIPAL   USGS   \n",
       "3         <  0.0060  34.624472 -118.185056  MUNICIPAL   USGS   \n",
       "4         <  0.0060  34.624472 -118.185056  MUNICIPAL   USGS   \n",
       "..      ...     ...        ...         ...        ...    ...   \n",
       "75      NaN     NaN  34.624472 -118.185056  MUNICIPAL   USGS   \n",
       "76      NaN     NaN  34.624472 -118.185056  MUNICIPAL   USGS   \n",
       "77      NaN     NaN  34.624472 -118.185056  MUNICIPAL   USGS   \n",
       "78      NaN     NaN  34.624472 -118.185056  MUNICIPAL   USGS   \n",
       "79      NaN     NaN  34.624472 -118.185056  MUNICIPAL   USGS   \n",
       "\n",
       "                 County  \n",
       "0    Los Angeles County  \n",
       "1    Los Angeles County  \n",
       "2    Los Angeles County  \n",
       "3    Los Angeles County  \n",
       "4    Los Angeles County  \n",
       "..                  ...  \n",
       "75   Los Angeles County  \n",
       "76   Los Angeles County  \n",
       "77   Los Angeles County  \n",
       "78   Los Angeles County  \n",
       "79   Los Angeles County  \n",
       "\n",
       "[80 rows x 12 columns]"
      ]
     },
     "execution_count": 11,
     "metadata": {},
     "output_type": "execute_result"
    },
    {
     "name": "stdout",
     "output_type": "stream",
     "text": [
      "time: 28.9 ms\n"
     ]
    }
   ],
   "source": [
    "df[\"County\"] = county_column\n",
    "df.head(100)"
   ]
  },
  {
   "cell_type": "code",
   "execution_count": 8,
   "metadata": {
    "scrolled": true
   },
   "outputs": [
    {
     "ename": "NameError",
     "evalue": "name 'df2' is not defined",
     "output_type": "error",
     "traceback": [
      "\u001b[1;31m---------------------------------------------------------------------------\u001b[0m",
      "\u001b[1;31mNameError\u001b[0m                                 Traceback (most recent call last)",
      "\u001b[1;32m<ipython-input-8-f00863196101>\u001b[0m in \u001b[0;36m<module>\u001b[1;34m\u001b[0m\n\u001b[0;32m      7\u001b[0m     \u001b[0mcounty_column\u001b[0m\u001b[1;33m.\u001b[0m\u001b[0mappend\u001b[0m\u001b[1;33m(\u001b[0m\u001b[0mgeo_string\u001b[0m\u001b[1;33m[\u001b[0m\u001b[1;36m4\u001b[0m\u001b[1;33m]\u001b[0m\u001b[1;33m)\u001b[0m\u001b[1;33m\u001b[0m\u001b[1;33m\u001b[0m\u001b[0m\n\u001b[0;32m      8\u001b[0m \u001b[1;33m\u001b[0m\u001b[0m\n\u001b[1;32m----> 9\u001b[1;33m \u001b[0mdf2\u001b[0m\u001b[1;33m[\u001b[0m\u001b[1;34m\"County\"\u001b[0m\u001b[1;33m]\u001b[0m \u001b[1;33m=\u001b[0m \u001b[0mcounty_column\u001b[0m\u001b[1;33m\u001b[0m\u001b[1;33m\u001b[0m\u001b[0m\n\u001b[0m\u001b[0;32m     10\u001b[0m \u001b[1;33m\u001b[0m\u001b[0m\n\u001b[0;32m     11\u001b[0m \u001b[1;31m# for row in df.iterrows():\u001b[0m\u001b[1;33m\u001b[0m\u001b[1;33m\u001b[0m\u001b[1;33m\u001b[0m\u001b[0m\n",
      "\u001b[1;31mNameError\u001b[0m: name 'df2' is not defined"
     ]
    },
    {
     "name": "stdout",
     "output_type": "stream",
     "text": [
      "time: 48.3 s\n"
     ]
    }
   ],
   "source": [
    "county_column = []\n",
    "for i in range(len(df)):\n",
    "    # obtain lat and lon for each row in data frame\n",
    "    lat = df.latitude.iloc[i]\n",
    "    lon = df.longitude.iloc[i]\n",
    "    \n",
    "    # get the address,whatever using lat and long\n",
    "    location = geolocator.reverse(f\"{lat}, {lon}\")\n",
    "    geo_string = location.address.split(\",\")\n",
    "    county_column.append(geo_string[4]) #get county\n",
    "\n",
    "df2[\"County\"] = county_column\n",
    "\n",
    "# for row in df.iterrows():\n",
    "#     geolocator = Nominatim(user_agent=\"untitled.py\")\n",
    "#     #location = geolocator.reverse(\"latitude, longitude\")\n",
    "#     location = geolocator.reverse([8], [9])\n",
    "#     geo_string = location.address.split(\",\")\n",
    "#     geo_string[2]\n",
    "    \n",
    "# df2 = geo_string[2]    \n",
    "# df2.head()"
   ]
  },
  {
   "cell_type": "code",
   "execution_count": null,
   "metadata": {},
   "outputs": [],
   "source": [
    "map1 = folium.Map(\n",
    "    location=[59.338315,18.089960],\n",
    "    tiles='cartodbpositron',\n",
    "    zoom_start=12,\n",
    ")\n",
    "df.apply(lambda row:folium.CircleMarker(location=[row[\"latitude\"], row[\"longitude\"]]).add_to(map1), axis=1)\n",
    "map1\n"
   ]
  },
  {
   "cell_type": "code",
   "execution_count": 30,
   "metadata": {},
   "outputs": [
    {
     "ename": "AttributeError",
     "evalue": "'str' object has no attribute 'length'",
     "output_type": "error",
     "traceback": [
      "\u001b[1;31m---------------------------------------------------------------------------\u001b[0m",
      "\u001b[1;31mAttributeError\u001b[0m                            Traceback (most recent call last)",
      "\u001b[1;32m<ipython-input-30-8b82107b5bd3>\u001b[0m in \u001b[0;36m<module>\u001b[1;34m\u001b[0m\n\u001b[1;32m----> 1\u001b[1;33m \u001b[0mdf2\u001b[0m\u001b[1;33m.\u001b[0m\u001b[0mlength\u001b[0m\u001b[1;33m\u001b[0m\u001b[1;33m\u001b[0m\u001b[0m\n\u001b[0m",
      "\u001b[1;31mAttributeError\u001b[0m: 'str' object has no attribute 'length'"
     ]
    },
    {
     "name": "stdout",
     "output_type": "stream",
     "text": [
      "time: 11.5 ms\n"
     ]
    }
   ],
   "source": [
    "df2.length\n"
   ]
  },
  {
   "cell_type": "code",
   "execution_count": null,
   "metadata": {},
   "outputs": [],
   "source": [
    "df[\"location\"] = df[\"latitude\"].map(str) + \",\" + df[\"longitude\"].map(str)\n",
    "df[\"location\"][0]"
   ]
  },
  {
   "cell_type": "code",
   "execution_count": null,
   "metadata": {},
   "outputs": [],
   "source": [
    "locator = Nominatim(user_agent=\"myGeocoder\", timeout=30)\n",
    "rgeocode = RateLimiter(locator.reverse, min_delay_seconds=0.1)"
   ]
  },
  {
   "cell_type": "code",
   "execution_count": null,
   "metadata": {
    "scrolled": true
   },
   "outputs": [],
   "source": [
    "tqdm.pandas()\n",
    "df['county'] = df['location'].progress_apply(rgeocode)\n",
    "df.head()"
   ]
  },
  {
   "cell_type": "code",
   "execution_count": null,
   "metadata": {},
   "outputs": [],
   "source": []
  }
 ],
 "metadata": {
  "kernelspec": {
   "display_name": "Python 3",
   "language": "python",
   "name": "python3"
  },
  "language_info": {
   "codemirror_mode": {
    "name": "ipython",
    "version": 3
   },
   "file_extension": ".py",
   "mimetype": "text/x-python",
   "name": "python",
   "nbconvert_exporter": "python",
   "pygments_lexer": "ipython3",
   "version": "3.7.3"
  }
 },
 "nbformat": 4,
 "nbformat_minor": 4
}
