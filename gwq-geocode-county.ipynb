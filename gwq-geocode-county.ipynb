{
 "cells": [
  {
   "cell_type": "code",
   "execution_count": null,
   "metadata": {},
   "outputs": [],
   "source": [
    "%load_ext autotime\n",
    "import pandas as pd\n",
    "import geopandas as gpd\n",
    "import geopy\n",
    "from geopy.geocoders import Nominatim\n",
    "from geopy.extra.rate_limiter import RateLimiter\n",
    "#import matplotlib.pyplot as plt\n",
    "#import plotly_express as px\n",
    "#from tqdm import tqdm\n",
    "#from tqdm.tqdm_notebook import tqdm_notebook"
   ]
  },
  {
   "cell_type": "code",
   "execution_count": null,
   "metadata": {
    "scrolled": true
   },
   "outputs": [],
   "source": [
    "# Import csv file to pandas dataframe and preview\n",
    "df = pd.read_csv(\"clean_chemical_master_gwq_data.csv\")\n",
    "df.head()"
   ]
  },
  {
   "cell_type": "code",
   "execution_count": null,
   "metadata": {},
   "outputs": [],
   "source": [
    "# Because there is a quota limit associated with geocoding, \n",
    "# I am going to delete all rows with duplicate \"well_id\".\n",
    "# After I get my county data, I will add it back to complete dataset.\n",
    "# Check number of rows in dataframe\n",
    "len(df)"
   ]
  },
  {
   "cell_type": "code",
   "execution_count": null,
   "metadata": {},
   "outputs": [],
   "source": [
    "# Convert well_id data type to string\n",
    "df['well_id'] = df['well_id'].astype(str)\n",
    "# Convert latitude and longitude data type to float\n",
    "df['latitude'] = df['latitude'].astype(float)\n",
    "df['longitude'] = df['longitude'].astype(float)"
   ]
  },
  {
   "cell_type": "code",
   "execution_count": null,
   "metadata": {
    "scrolled": true
   },
   "outputs": [],
   "source": [
    "# Make new dataframe dropping duplicte values \n",
    "df_dup = df.drop_duplicates(subset='well_id', keep='first')\n",
    "\n",
    "# sorting by \"well_id\" \n",
    "#df.sort_values(\"well_id\", inplace = True) \n",
    "  \n",
    "# displaying data \n",
    "df_dup.head()"
   ]
  },
  {
   "cell_type": "code",
   "execution_count": null,
   "metadata": {},
   "outputs": [],
   "source": [
    "# Check number of rows in dataframe\n",
    "len(df_dup)"
   ]
  },
  {
   "cell_type": "code",
   "execution_count": null,
   "metadata": {},
   "outputs": [],
   "source": [
    "# Reverse geocode one record of lat/lon data to test code and determine county data\n",
    "geolocator = Nominatim(user_agent=\"Cal_gwq_draft.py\", timeout=3) # 3 second delay to timeout"
   ]
  },
  {
   "cell_type": "code",
   "execution_count": null,
   "metadata": {},
   "outputs": [],
   "source": [
    "location = geolocator.reverse(\"34.624472, -118.185056\")"
   ]
  },
  {
   "cell_type": "code",
   "execution_count": null,
   "metadata": {},
   "outputs": [],
   "source": [
    "geo_string = location.address.split(\",\")\n",
    "print(geo_string)"
   ]
  },
  {
   "cell_type": "code",
   "execution_count": null,
   "metadata": {},
   "outputs": [],
   "source": [
    "for i in geo_string:\n",
    "    if 'County' in i:\n",
    "        print(i)"
   ]
  },
  {
   "cell_type": "code",
   "execution_count": null,
   "metadata": {
    "scrolled": true
   },
   "outputs": [],
   "source": [
    "# Create county column and add county data to dataframe\n",
    "county = []\n",
    "for i in range(len(df)):\n",
    "    # obtain lat and lon for each row in data frame\n",
    "    lat = df_dup.latitude.iloc[i]\n",
    "    lon = df_dup.longitude.iloc[i]\n",
    "    # use rate limiter to avoid timeout error\n",
    "    reverse = RateLimiter(geolocator.reverse, min_delay_seconds=1) # should take about 1 hour\n",
    "    \n",
    "    # get the address data for dataframe using lat/lon\n",
    "    location = geolocator.reverse(f\"{lat}, {lon}\")\n",
    "    # split address data into columns\n",
    "    geo_string = location.address.split(\",\")\n",
    "    # extract county data from address data and add \"county_column\" to dataframe\n",
    "    for i in geo_string:\n",
    "        if 'County' in i:\n",
    "            county.append(i)\n",
    "\n",
    "# displaying data \n",
    "df_dup.head()"
   ]
  },
  {
   "cell_type": "code",
   "execution_count": null,
   "metadata": {},
   "outputs": [],
   "source": [
    "# make csv from df_dup dataframe\n",
    "df_dup.to_csv(\"gwq-drop-dup-well_id-county.csv\", index=None, header=True)"
   ]
  }
 ],
 "metadata": {
  "kernelspec": {
   "display_name": "Python 3",
   "language": "python",
   "name": "python3"
  },
  "language_info": {
   "codemirror_mode": {
    "name": "ipython",
    "version": 3
   },
   "file_extension": ".py",
   "mimetype": "text/x-python",
   "name": "python",
   "nbconvert_exporter": "python",
   "pygments_lexer": "ipython3",
   "version": "3.7.3"
  }
 },
 "nbformat": 4,
 "nbformat_minor": 4
}
