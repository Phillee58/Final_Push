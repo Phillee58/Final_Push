{
 "cells": [
  {
   "cell_type": "code",
   "execution_count": 1,
   "metadata": {},
   "outputs": [],
   "source": [
    "import pandas as pd"
   ]
  },
  {
   "cell_type": "code",
   "execution_count": 2,
   "metadata": {},
   "outputs": [],
   "source": [
    "first_df = pd.read_csv('Groundwater.csv')\n"
   ]
  },
  {
   "cell_type": "code",
   "execution_count": 3,
   "metadata": {},
   "outputs": [
    {
     "data": {
      "text/plain": [
       "WELLKEY             int64\n",
       "COMTRS             object\n",
       "RANDLAT           float64\n",
       "RANDLONG          float64\n",
       "CHEMNUMBER          int64\n",
       "CHEMNAME           object\n",
       "CONC              float64\n",
       "SL                float64\n",
       "AGENCY              int64\n",
       "AGENCY_ACRON       object\n",
       "SDATE              object\n",
       "STYPE              object\n",
       "STATUS             object\n",
       "RESIDUE_SOURCE     object\n",
       "LAB               float64\n",
       "ADATE              object\n",
       "APFILE             object\n",
       "COUNTY_NAME        object\n",
       "WELLCODE           object\n",
       "WELLTYPE           object\n",
       "DEPTH             float64\n",
       "TPERF             float64\n",
       "BPERF             float64\n",
       "DETECT_STATUS      object\n",
       "DPR_RESPONSE       object\n",
       "dtype: object"
      ]
     },
     "execution_count": 3,
     "metadata": {},
     "output_type": "execute_result"
    }
   ],
   "source": [
    "first_df.dtypes"
   ]
  },
  {
   "cell_type": "code",
   "execution_count": 4,
   "metadata": {},
   "outputs": [
    {
     "data": {
      "text/html": [
       "<div>\n",
       "<style scoped>\n",
       "    .dataframe tbody tr th:only-of-type {\n",
       "        vertical-align: middle;\n",
       "    }\n",
       "\n",
       "    .dataframe tbody tr th {\n",
       "        vertical-align: top;\n",
       "    }\n",
       "\n",
       "    .dataframe thead th {\n",
       "        text-align: right;\n",
       "    }\n",
       "</style>\n",
       "<table border=\"1\" class=\"dataframe\">\n",
       "  <thead>\n",
       "    <tr style=\"text-align: right;\">\n",
       "      <th></th>\n",
       "      <th>WELLKEY</th>\n",
       "      <th>RANDLAT</th>\n",
       "      <th>RANDLONG</th>\n",
       "      <th>CHEMNUMBER</th>\n",
       "      <th>CHEMNAME</th>\n",
       "      <th>SL</th>\n",
       "      <th>SDATE</th>\n",
       "      <th>STATUS</th>\n",
       "      <th>COUNTY_NAME</th>\n",
       "    </tr>\n",
       "  </thead>\n",
       "  <tbody>\n",
       "    <tr>\n",
       "      <th>0</th>\n",
       "      <td>100770</td>\n",
       "      <td>37.805859</td>\n",
       "      <td>-122.158223</td>\n",
       "      <td>2265</td>\n",
       "      <td>Aldicarb sulfone (degradate)</td>\n",
       "      <td>0.080</td>\n",
       "      <td>6/7/2007</td>\n",
       "      <td>N</td>\n",
       "      <td>Alameda</td>\n",
       "    </tr>\n",
       "    <tr>\n",
       "      <th>1</th>\n",
       "      <td>100770</td>\n",
       "      <td>37.805859</td>\n",
       "      <td>-122.158223</td>\n",
       "      <td>2361</td>\n",
       "      <td>Aldicarb sulfoxide (degradate)</td>\n",
       "      <td>0.040</td>\n",
       "      <td>6/7/2007</td>\n",
       "      <td>N</td>\n",
       "      <td>Alameda</td>\n",
       "    </tr>\n",
       "    <tr>\n",
       "      <th>2</th>\n",
       "      <td>100770</td>\n",
       "      <td>37.805859</td>\n",
       "      <td>-122.158223</td>\n",
       "      <td>575</td>\n",
       "      <td>Aldicarb</td>\n",
       "      <td>0.040</td>\n",
       "      <td>6/7/2007</td>\n",
       "      <td>N</td>\n",
       "      <td>Alameda</td>\n",
       "    </tr>\n",
       "    <tr>\n",
       "      <th>3</th>\n",
       "      <td>100770</td>\n",
       "      <td>37.805859</td>\n",
       "      <td>-122.158223</td>\n",
       "      <td>45</td>\n",
       "      <td>Atrazine</td>\n",
       "      <td>0.007</td>\n",
       "      <td>6/7/2007</td>\n",
       "      <td>N</td>\n",
       "      <td>Alameda</td>\n",
       "    </tr>\n",
       "    <tr>\n",
       "      <th>4</th>\n",
       "      <td>100770</td>\n",
       "      <td>37.805859</td>\n",
       "      <td>-122.158223</td>\n",
       "      <td>4096</td>\n",
       "      <td>ACET (degradate)</td>\n",
       "      <td>0.080</td>\n",
       "      <td>6/7/2007</td>\n",
       "      <td>N</td>\n",
       "      <td>Alameda</td>\n",
       "    </tr>\n",
       "  </tbody>\n",
       "</table>\n",
       "</div>"
      ],
      "text/plain": [
       "   WELLKEY    RANDLAT    RANDLONG  CHEMNUMBER                        CHEMNAME  \\\n",
       "0   100770  37.805859 -122.158223        2265    Aldicarb sulfone (degradate)   \n",
       "1   100770  37.805859 -122.158223        2361  Aldicarb sulfoxide (degradate)   \n",
       "2   100770  37.805859 -122.158223         575                        Aldicarb   \n",
       "3   100770  37.805859 -122.158223          45                        Atrazine   \n",
       "4   100770  37.805859 -122.158223        4096                ACET (degradate)   \n",
       "\n",
       "      SL     SDATE STATUS COUNTY_NAME  \n",
       "0  0.080  6/7/2007      N     Alameda  \n",
       "1  0.040  6/7/2007      N     Alameda  \n",
       "2  0.040  6/7/2007      N     Alameda  \n",
       "3  0.007  6/7/2007      N     Alameda  \n",
       "4  0.080  6/7/2007      N     Alameda  "
      ]
     },
     "execution_count": 4,
     "metadata": {},
     "output_type": "execute_result"
    }
   ],
   "source": [
    "to_drop = ['CONC', 'COMTRS', 'AGENCY', 'AGENCY_ACRON', 'LAB', 'ADATE', 'APFILE', 'WELLCODE', 'WELLTYPE', 'DEPTH', 'TPERF', 'BPERF', 'DETECT_STATUS','RESIDUE_SOURCE', 'STYPE', 'DPR_RESPONSE']\n",
    "\n",
    "first_df.drop(to_drop, inplace=True, axis=1)\n",
    "\n",
    "first_df.head(5)"
   ]
  },
  {
   "cell_type": "code",
   "execution_count": 9,
   "metadata": {},
   "outputs": [
    {
     "data": {
      "text/html": [
       "<div>\n",
       "<style scoped>\n",
       "    .dataframe tbody tr th:only-of-type {\n",
       "        vertical-align: middle;\n",
       "    }\n",
       "\n",
       "    .dataframe tbody tr th {\n",
       "        vertical-align: top;\n",
       "    }\n",
       "\n",
       "    .dataframe thead th {\n",
       "        text-align: right;\n",
       "    }\n",
       "</style>\n",
       "<table border=\"1\" class=\"dataframe\">\n",
       "  <thead>\n",
       "    <tr style=\"text-align: right;\">\n",
       "      <th></th>\n",
       "      <th>WELLKEY</th>\n",
       "      <th>LATITUDE</th>\n",
       "      <th>LONGITUDE</th>\n",
       "      <th>CHEM_NUMBER</th>\n",
       "      <th>CHEM_NAME</th>\n",
       "      <th>SCREEN_LEVEL_CON</th>\n",
       "      <th>SAMPLE_DATE</th>\n",
       "      <th>STATUS</th>\n",
       "      <th>COUNTY_NAME</th>\n",
       "    </tr>\n",
       "  </thead>\n",
       "  <tbody>\n",
       "    <tr>\n",
       "      <th>0</th>\n",
       "      <td>100770</td>\n",
       "      <td>37.805859</td>\n",
       "      <td>-122.158223</td>\n",
       "      <td>2265</td>\n",
       "      <td>Aldicarb sulfone (degradate)</td>\n",
       "      <td>0.080</td>\n",
       "      <td>6/7/2007</td>\n",
       "      <td>N</td>\n",
       "      <td>Alameda</td>\n",
       "    </tr>\n",
       "    <tr>\n",
       "      <th>1</th>\n",
       "      <td>100770</td>\n",
       "      <td>37.805859</td>\n",
       "      <td>-122.158223</td>\n",
       "      <td>2361</td>\n",
       "      <td>Aldicarb sulfoxide (degradate)</td>\n",
       "      <td>0.040</td>\n",
       "      <td>6/7/2007</td>\n",
       "      <td>N</td>\n",
       "      <td>Alameda</td>\n",
       "    </tr>\n",
       "    <tr>\n",
       "      <th>2</th>\n",
       "      <td>100770</td>\n",
       "      <td>37.805859</td>\n",
       "      <td>-122.158223</td>\n",
       "      <td>575</td>\n",
       "      <td>Aldicarb</td>\n",
       "      <td>0.040</td>\n",
       "      <td>6/7/2007</td>\n",
       "      <td>N</td>\n",
       "      <td>Alameda</td>\n",
       "    </tr>\n",
       "    <tr>\n",
       "      <th>3</th>\n",
       "      <td>100770</td>\n",
       "      <td>37.805859</td>\n",
       "      <td>-122.158223</td>\n",
       "      <td>45</td>\n",
       "      <td>Atrazine</td>\n",
       "      <td>0.007</td>\n",
       "      <td>6/7/2007</td>\n",
       "      <td>N</td>\n",
       "      <td>Alameda</td>\n",
       "    </tr>\n",
       "    <tr>\n",
       "      <th>4</th>\n",
       "      <td>100770</td>\n",
       "      <td>37.805859</td>\n",
       "      <td>-122.158223</td>\n",
       "      <td>4096</td>\n",
       "      <td>ACET (degradate)</td>\n",
       "      <td>0.080</td>\n",
       "      <td>6/7/2007</td>\n",
       "      <td>N</td>\n",
       "      <td>Alameda</td>\n",
       "    </tr>\n",
       "  </tbody>\n",
       "</table>\n",
       "</div>"
      ],
      "text/plain": [
       "   WELLKEY   LATITUDE   LONGITUDE  CHEM_NUMBER  \\\n",
       "0   100770  37.805859 -122.158223         2265   \n",
       "1   100770  37.805859 -122.158223         2361   \n",
       "2   100770  37.805859 -122.158223          575   \n",
       "3   100770  37.805859 -122.158223           45   \n",
       "4   100770  37.805859 -122.158223         4096   \n",
       "\n",
       "                        CHEM_NAME  SCREEN_LEVEL_CON SAMPLE_DATE STATUS  \\\n",
       "0    Aldicarb sulfone (degradate)             0.080    6/7/2007      N   \n",
       "1  Aldicarb sulfoxide (degradate)             0.040    6/7/2007      N   \n",
       "2                        Aldicarb             0.040    6/7/2007      N   \n",
       "3                        Atrazine             0.007    6/7/2007      N   \n",
       "4                ACET (degradate)             0.080    6/7/2007      N   \n",
       "\n",
       "  COUNTY_NAME  \n",
       "0     Alameda  \n",
       "1     Alameda  \n",
       "2     Alameda  \n",
       "3     Alameda  \n",
       "4     Alameda  "
      ]
     },
     "execution_count": 9,
     "metadata": {},
     "output_type": "execute_result"
    }
   ],
   "source": [
    "new_names = {'RANDLAT' : 'LATITUDE', 'RANDLONG' : 'LONGITUDE', 'CHEMNUMBER' : 'CHEM_NUMBER', 'CHEMNAME' : 'CHEM_NAME', 'SL' : 'SCREEN_LEVEL_CON', 'SDATE' : 'SAMPLE_DATE'}\n",
    "\n",
    "first_df.rename(columns=new_names, inplace=True)\n",
    "\n",
    "\n",
    "first_df.head()\n"
   ]
  },
  {
   "cell_type": "code",
   "execution_count": 11,
   "metadata": {},
   "outputs": [
    {
     "name": "stdout",
     "output_type": "stream",
     "text": [
      "Number of Rows in dataframe :  2735403\n"
     ]
    }
   ],
   "source": [
    "numOfRows = len(first_df.index)\n",
    " \n",
    "print('Number of Rows in dataframe : ' , numOfRows)"
   ]
  },
  {
   "cell_type": "code",
   "execution_count": 12,
   "metadata": {},
   "outputs": [],
   "source": [
    "cleaned_df = first_df.dropna()\n"
   ]
  },
  {
   "cell_type": "code",
   "execution_count": 13,
   "metadata": {},
   "outputs": [
    {
     "name": "stdout",
     "output_type": "stream",
     "text": [
      "Number of Rows in dataframe :  2715751\n"
     ]
    }
   ],
   "source": [
    "numOfRows = len(cleaned_df.index)\n",
    " \n",
    "print('Number of Rows in dataframe : ' , numOfRows)"
   ]
  },
  {
   "cell_type": "code",
   "execution_count": 14,
   "metadata": {},
   "outputs": [],
   "source": [
    "cleaned_df.to_csv(r'clean_well_df.csv', index = False, header=True)"
   ]
  },
  {
   "cell_type": "code",
   "execution_count": null,
   "metadata": {},
   "outputs": [],
   "source": []
  }
 ],
 "metadata": {
  "file_extension": ".py",
  "kernelspec": {
   "display_name": "Python 3.7.3 64-bit ('base': conda)",
   "language": "python",
   "name": "python37364bitbaseconda7e92325aceec41c2ac312d466834af07"
  },
  "language_info": {
   "codemirror_mode": {
    "name": "ipython",
    "version": 3
   },
   "file_extension": ".py",
   "mimetype": "text/x-python",
   "name": "python",
   "nbconvert_exporter": "python",
   "pygments_lexer": "ipython3",
   "version": "3.7.3"
  },
  "mimetype": "text/x-python",
  "name": "python",
  "npconvert_exporter": "python",
  "pygments_lexer": "ipython3",
  "version": 3
 },
 "nbformat": 4,
 "nbformat_minor": 2
}
