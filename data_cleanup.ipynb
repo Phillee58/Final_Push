{
 "nbformat": 4,
 "nbformat_minor": 2,
 "metadata": {
  "language_info": {
   "name": "python",
   "codemirror_mode": {
    "name": "ipython",
    "version": 3
   },
   "version": "3.7.3-final"
  },
  "orig_nbformat": 2,
  "file_extension": ".py",
  "mimetype": "text/x-python",
  "name": "python",
  "npconvert_exporter": "python",
  "pygments_lexer": "ipython3",
  "version": 3,
  "kernelspec": {
   "name": "python37364bitbaseconda7e92325aceec41c2ac312d466834af07",
   "display_name": "Python 3.7.3 64-bit ('base': conda)"
  }
 },
 "cells": [
  {
   "cell_type": "code",
   "execution_count": 1,
   "metadata": {},
   "outputs": [],
   "source": [
    "import pandas as pd"
   ]
  },
  {
   "cell_type": "code",
   "execution_count": 2,
   "metadata": {},
   "outputs": [],
   "source": [
    "first_df = pd.read_csv('Groundwater.csv')\n"
   ]
  },
  {
   "cell_type": "code",
   "execution_count": 3,
   "metadata": {},
   "outputs": [
    {
     "data": {
      "text/plain": "WELLKEY             int64\nCOMTRS             object\nRANDLAT           float64\nRANDLONG          float64\nCHEMNUMBER          int64\nCHEMNAME           object\nCONC              float64\nSL                float64\nAGENCY              int64\nAGENCY_ACRON       object\nSDATE              object\nSTYPE              object\nSTATUS             object\nRESIDUE_SOURCE     object\nLAB               float64\nADATE              object\nAPFILE             object\nCOUNTY_NAME        object\nWELLCODE           object\nWELLTYPE           object\nDEPTH             float64\nTPERF             float64\nBPERF             float64\nDETECT_STATUS      object\nDPR_RESPONSE       object\ndtype: object"
     },
     "execution_count": 3,
     "metadata": {},
     "output_type": "execute_result"
    }
   ],
   "source": [
    "first_df.dtypes"
   ]
  },
  {
   "cell_type": "code",
   "execution_count": 4,
   "metadata": {},
   "outputs": [
    {
     "data": {
      "text/html": "<div>\n<style scoped>\n    .dataframe tbody tr th:only-of-type {\n        vertical-align: middle;\n    }\n\n    .dataframe tbody tr th {\n        vertical-align: top;\n    }\n\n    .dataframe thead th {\n        text-align: right;\n    }\n</style>\n<table border=\"1\" class=\"dataframe\">\n  <thead>\n    <tr style=\"text-align: right;\">\n      <th></th>\n      <th>WELLKEY</th>\n      <th>RANDLAT</th>\n      <th>RANDLONG</th>\n      <th>CHEMNUMBER</th>\n      <th>CHEMNAME</th>\n      <th>SL</th>\n      <th>SDATE</th>\n      <th>STATUS</th>\n      <th>COUNTY_NAME</th>\n    </tr>\n  </thead>\n  <tbody>\n    <tr>\n      <th>0</th>\n      <td>100770</td>\n      <td>37.805859</td>\n      <td>-122.158223</td>\n      <td>2265</td>\n      <td>Aldicarb sulfone (degradate)</td>\n      <td>0.080</td>\n      <td>6/7/2007</td>\n      <td>N</td>\n      <td>Alameda</td>\n    </tr>\n    <tr>\n      <th>1</th>\n      <td>100770</td>\n      <td>37.805859</td>\n      <td>-122.158223</td>\n      <td>2361</td>\n      <td>Aldicarb sulfoxide (degradate)</td>\n      <td>0.040</td>\n      <td>6/7/2007</td>\n      <td>N</td>\n      <td>Alameda</td>\n    </tr>\n    <tr>\n      <th>2</th>\n      <td>100770</td>\n      <td>37.805859</td>\n      <td>-122.158223</td>\n      <td>575</td>\n      <td>Aldicarb</td>\n      <td>0.040</td>\n      <td>6/7/2007</td>\n      <td>N</td>\n      <td>Alameda</td>\n    </tr>\n    <tr>\n      <th>3</th>\n      <td>100770</td>\n      <td>37.805859</td>\n      <td>-122.158223</td>\n      <td>45</td>\n      <td>Atrazine</td>\n      <td>0.007</td>\n      <td>6/7/2007</td>\n      <td>N</td>\n      <td>Alameda</td>\n    </tr>\n    <tr>\n      <th>4</th>\n      <td>100770</td>\n      <td>37.805859</td>\n      <td>-122.158223</td>\n      <td>4096</td>\n      <td>ACET (degradate)</td>\n      <td>0.080</td>\n      <td>6/7/2007</td>\n      <td>N</td>\n      <td>Alameda</td>\n    </tr>\n  </tbody>\n</table>\n</div>",
      "text/plain": "   WELLKEY    RANDLAT    RANDLONG  CHEMNUMBER                        CHEMNAME  \\\n0   100770  37.805859 -122.158223        2265    Aldicarb sulfone (degradate)   \n1   100770  37.805859 -122.158223        2361  Aldicarb sulfoxide (degradate)   \n2   100770  37.805859 -122.158223         575                        Aldicarb   \n3   100770  37.805859 -122.158223          45                        Atrazine   \n4   100770  37.805859 -122.158223        4096                ACET (degradate)   \n\n      SL     SDATE STATUS COUNTY_NAME  \n0  0.080  6/7/2007      N     Alameda  \n1  0.040  6/7/2007      N     Alameda  \n2  0.040  6/7/2007      N     Alameda  \n3  0.007  6/7/2007      N     Alameda  \n4  0.080  6/7/2007      N     Alameda  "
     },
     "execution_count": 4,
     "metadata": {},
     "output_type": "execute_result"
    }
   ],
   "source": [
    "to_drop = ['CONC', 'COMTRS', 'AGENCY', 'AGENCY_ACRON', 'LAB', 'ADATE', 'APFILE', 'WELLCODE', 'WELLTYPE', 'DEPTH', 'TPERF', 'BPERF', 'DETECT_STATUS','RESIDUE_SOURCE', 'STYPE', 'DPR_RESPONSE']\n",
    "\n",
    "first_df.drop(to_drop, inplace=True, axis=1)\n",
    "\n",
    "first_df.head(5)"
   ]
  },
  {
   "cell_type": "code",
   "execution_count": 9,
   "metadata": {},
   "outputs": [
    {
     "data": {
      "text/html": "<div>\n<style scoped>\n    .dataframe tbody tr th:only-of-type {\n        vertical-align: middle;\n    }\n\n    .dataframe tbody tr th {\n        vertical-align: top;\n    }\n\n    .dataframe thead th {\n        text-align: right;\n    }\n</style>\n<table border=\"1\" class=\"dataframe\">\n  <thead>\n    <tr style=\"text-align: right;\">\n      <th></th>\n      <th>WELLKEY</th>\n      <th>LATITUDE</th>\n      <th>LONGITUDE</th>\n      <th>CHEM_NUMBER</th>\n      <th>CHEM_NAME</th>\n      <th>SCREEN_LEVEL_CON</th>\n      <th>SAMPLE_DATE</th>\n      <th>STATUS</th>\n      <th>COUNTY_NAME</th>\n    </tr>\n  </thead>\n  <tbody>\n    <tr>\n      <th>0</th>\n      <td>100770</td>\n      <td>37.805859</td>\n      <td>-122.158223</td>\n      <td>2265</td>\n      <td>Aldicarb sulfone (degradate)</td>\n      <td>0.080</td>\n      <td>6/7/2007</td>\n      <td>N</td>\n      <td>Alameda</td>\n    </tr>\n    <tr>\n      <th>1</th>\n      <td>100770</td>\n      <td>37.805859</td>\n      <td>-122.158223</td>\n      <td>2361</td>\n      <td>Aldicarb sulfoxide (degradate)</td>\n      <td>0.040</td>\n      <td>6/7/2007</td>\n      <td>N</td>\n      <td>Alameda</td>\n    </tr>\n    <tr>\n      <th>2</th>\n      <td>100770</td>\n      <td>37.805859</td>\n      <td>-122.158223</td>\n      <td>575</td>\n      <td>Aldicarb</td>\n      <td>0.040</td>\n      <td>6/7/2007</td>\n      <td>N</td>\n      <td>Alameda</td>\n    </tr>\n    <tr>\n      <th>3</th>\n      <td>100770</td>\n      <td>37.805859</td>\n      <td>-122.158223</td>\n      <td>45</td>\n      <td>Atrazine</td>\n      <td>0.007</td>\n      <td>6/7/2007</td>\n      <td>N</td>\n      <td>Alameda</td>\n    </tr>\n    <tr>\n      <th>4</th>\n      <td>100770</td>\n      <td>37.805859</td>\n      <td>-122.158223</td>\n      <td>4096</td>\n      <td>ACET (degradate)</td>\n      <td>0.080</td>\n      <td>6/7/2007</td>\n      <td>N</td>\n      <td>Alameda</td>\n    </tr>\n  </tbody>\n</table>\n</div>",
      "text/plain": "   WELLKEY   LATITUDE   LONGITUDE  CHEM_NUMBER  \\\n0   100770  37.805859 -122.158223         2265   \n1   100770  37.805859 -122.158223         2361   \n2   100770  37.805859 -122.158223          575   \n3   100770  37.805859 -122.158223           45   \n4   100770  37.805859 -122.158223         4096   \n\n                        CHEM_NAME  SCREEN_LEVEL_CON SAMPLE_DATE STATUS  \\\n0    Aldicarb sulfone (degradate)             0.080    6/7/2007      N   \n1  Aldicarb sulfoxide (degradate)             0.040    6/7/2007      N   \n2                        Aldicarb             0.040    6/7/2007      N   \n3                        Atrazine             0.007    6/7/2007      N   \n4                ACET (degradate)             0.080    6/7/2007      N   \n\n  COUNTY_NAME  \n0     Alameda  \n1     Alameda  \n2     Alameda  \n3     Alameda  \n4     Alameda  "
     },
     "execution_count": 9,
     "metadata": {},
     "output_type": "execute_result"
    }
   ],
   "source": [
    "new_names = {'RANDLAT' : 'LATITUDE', 'RANDLONG' : 'LONGITUDE', 'CHEMNUMBER' : 'CHEM_NUMBER', 'CHEMNAME' : 'CHEM_NAME', 'SL' : 'SCREEN_LEVEL_CON', 'SDATE' : 'SAMPLE_DATE'}\n",
    "\n",
    "first_df.rename(columns=new_names, inplace=True)\n",
    "\n",
    "\n",
    "first_df.head()\n"
   ]
  },
  {
   "cell_type": "code",
   "execution_count": 11,
   "metadata": {},
   "outputs": [
    {
     "name": "stdout",
     "output_type": "stream",
     "text": "Number of Rows in dataframe :  2735403\n"
    }
   ],
   "source": [
    "numOfRows = len(first_df.index)\n",
    " \n",
    "print('Number of Rows in dataframe : ' , numOfRows)"
   ]
  },
  {
   "cell_type": "code",
   "execution_count": 12,
   "metadata": {},
   "outputs": [],
   "source": [
    "cleaned_df = first_df.dropna()\n"
   ]
  },
  {
   "cell_type": "code",
   "execution_count": 13,
   "metadata": {},
   "outputs": [
    {
     "name": "stdout",
     "output_type": "stream",
     "text": "Number of Rows in dataframe :  2715751\n"
    }
   ],
   "source": [
    "numOfRows = len(cleaned_df.index)\n",
    " \n",
    "print('Number of Rows in dataframe : ' , numOfRows)"
   ]
  },
  {
   "cell_type": "code",
   "execution_count": 14,
   "metadata": {},
   "outputs": [],
   "source": [
    "cleaned_df.to_csv(r'clean_well_df.csv', index = False, header=True)"
   ]
  },
  {
   "cell_type": "code",
   "execution_count": null,
   "metadata": {},
   "outputs": [],
   "source": []
  }
 ]
}